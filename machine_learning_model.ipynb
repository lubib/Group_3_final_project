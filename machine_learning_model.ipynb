{
 "cells": [
  {
   "cell_type": "code",
   "execution_count": 1,
   "metadata": {},
   "outputs": [],
   "source": [
    "# Import our dependencies\n",
    "import pandas as pd\n",
    "from path import Path\n",
    "import numpy as np\n",
    "from sklearn.preprocessing import StandardScaler\n",
    "from sklearn.model_selection import train_test_split\n",
    "from sklearn.ensemble import RandomForestRegressor\n",
    "import joblib"
   ]
  },
  {
   "cell_type": "code",
   "execution_count": 2,
   "metadata": {},
   "outputs": [
    {
     "data": {
      "text/html": [
       "<div>\n",
       "<style scoped>\n",
       "    .dataframe tbody tr th:only-of-type {\n",
       "        vertical-align: middle;\n",
       "    }\n",
       "\n",
       "    .dataframe tbody tr th {\n",
       "        vertical-align: top;\n",
       "    }\n",
       "\n",
       "    .dataframe thead th {\n",
       "        text-align: right;\n",
       "    }\n",
       "</style>\n",
       "<table border=\"1\" class=\"dataframe\">\n",
       "  <thead>\n",
       "    <tr style=\"text-align: right;\">\n",
       "      <th></th>\n",
       "      <th>country_name</th>\n",
       "      <th>population</th>\n",
       "      <th>gdp_per_capita</th>\n",
       "      <th>human_development_index</th>\n",
       "      <th>gender_inequality_index</th>\n",
       "      <th>corruption_perceptions_index</th>\n",
       "      <th>total</th>\n",
       "    </tr>\n",
       "  </thead>\n",
       "  <tbody>\n",
       "    <tr>\n",
       "      <th>0</th>\n",
       "      <td>Afghanistan</td>\n",
       "      <td>33370794</td>\n",
       "      <td>613.856689</td>\n",
       "      <td>0.465</td>\n",
       "      <td>0.676</td>\n",
       "      <td>12</td>\n",
       "      <td>1</td>\n",
       "    </tr>\n",
       "    <tr>\n",
       "      <th>1</th>\n",
       "      <td>Albania</td>\n",
       "      <td>2889104</td>\n",
       "      <td>4578.631994</td>\n",
       "      <td>0.733</td>\n",
       "      <td>0.267</td>\n",
       "      <td>33</td>\n",
       "      <td>0</td>\n",
       "    </tr>\n",
       "    <tr>\n",
       "      <th>2</th>\n",
       "      <td>United Arab Emirates</td>\n",
       "      <td>9214175</td>\n",
       "      <td>43751.838890</td>\n",
       "      <td>0.835</td>\n",
       "      <td>0.247</td>\n",
       "      <td>70</td>\n",
       "      <td>0</td>\n",
       "    </tr>\n",
       "    <tr>\n",
       "      <th>3</th>\n",
       "      <td>Argentina</td>\n",
       "      <td>42669500</td>\n",
       "      <td>12334.798250</td>\n",
       "      <td>0.836</td>\n",
       "      <td>0.364</td>\n",
       "      <td>34</td>\n",
       "      <td>4</td>\n",
       "    </tr>\n",
       "    <tr>\n",
       "      <th>4</th>\n",
       "      <td>Armenia</td>\n",
       "      <td>2912403</td>\n",
       "      <td>3986.231624</td>\n",
       "      <td>0.733</td>\n",
       "      <td>0.299</td>\n",
       "      <td>37</td>\n",
       "      <td>2</td>\n",
       "    </tr>\n",
       "    <tr>\n",
       "      <th>5</th>\n",
       "      <td>Australia</td>\n",
       "      <td>23475686</td>\n",
       "      <td>62510.791170</td>\n",
       "      <td>0.935</td>\n",
       "      <td>0.123</td>\n",
       "      <td>80</td>\n",
       "      <td>38</td>\n",
       "    </tr>\n",
       "    <tr>\n",
       "      <th>6</th>\n",
       "      <td>Austria</td>\n",
       "      <td>8546356</td>\n",
       "      <td>51717.495940</td>\n",
       "      <td>0.885</td>\n",
       "      <td>0.083</td>\n",
       "      <td>72</td>\n",
       "      <td>17</td>\n",
       "    </tr>\n",
       "    <tr>\n",
       "      <th>7</th>\n",
       "      <td>Azerbaijan</td>\n",
       "      <td>9535079</td>\n",
       "      <td>7891.313147</td>\n",
       "      <td>0.751</td>\n",
       "      <td>0.330</td>\n",
       "      <td>29</td>\n",
       "      <td>9</td>\n",
       "    </tr>\n",
       "    <tr>\n",
       "      <th>8</th>\n",
       "      <td>Burundi</td>\n",
       "      <td>9844297</td>\n",
       "      <td>274.857948</td>\n",
       "      <td>0.400</td>\n",
       "      <td>0.483</td>\n",
       "      <td>20</td>\n",
       "      <td>0</td>\n",
       "    </tr>\n",
       "    <tr>\n",
       "      <th>9</th>\n",
       "      <td>Belgium</td>\n",
       "      <td>11209057</td>\n",
       "      <td>47700.540360</td>\n",
       "      <td>0.890</td>\n",
       "      <td>0.076</td>\n",
       "      <td>76</td>\n",
       "      <td>3</td>\n",
       "    </tr>\n",
       "  </tbody>\n",
       "</table>\n",
       "</div>"
      ],
      "text/plain": [
       "           country_name  population  gdp_per_capita  human_development_index  \\\n",
       "0           Afghanistan    33370794      613.856689                    0.465   \n",
       "1               Albania     2889104     4578.631994                    0.733   \n",
       "2  United Arab Emirates     9214175    43751.838890                    0.835   \n",
       "3             Argentina    42669500    12334.798250                    0.836   \n",
       "4               Armenia     2912403     3986.231624                    0.733   \n",
       "5             Australia    23475686    62510.791170                    0.935   \n",
       "6               Austria     8546356    51717.495940                    0.885   \n",
       "7            Azerbaijan     9535079     7891.313147                    0.751   \n",
       "8               Burundi     9844297      274.857948                    0.400   \n",
       "9               Belgium    11209057    47700.540360                    0.890   \n",
       "\n",
       "   gender_inequality_index  corruption_perceptions_index  total  \n",
       "0                    0.676                            12      1  \n",
       "1                    0.267                            33      0  \n",
       "2                    0.247                            70      0  \n",
       "3                    0.364                            34      4  \n",
       "4                    0.299                            37      2  \n",
       "5                    0.123                            80     38  \n",
       "6                    0.083                            72     17  \n",
       "7                    0.330                            29      9  \n",
       "8                    0.483                            20      0  \n",
       "9                    0.076                            76      3  "
      ]
     },
     "execution_count": 2,
     "metadata": {},
     "output_type": "execute_result"
    }
   ],
   "source": [
    "# Import our clean dataset\n",
    "file_path = Path(\"clean_data/combined_olympic_data.csv\")\n",
    "df = pd.read_csv(file_path)\n",
    "df.head(10)"
   ]
  },
  {
   "cell_type": "code",
   "execution_count": 3,
   "metadata": {},
   "outputs": [
    {
     "data": {
      "text/html": [
       "<div>\n",
       "<style scoped>\n",
       "    .dataframe tbody tr th:only-of-type {\n",
       "        vertical-align: middle;\n",
       "    }\n",
       "\n",
       "    .dataframe tbody tr th {\n",
       "        vertical-align: top;\n",
       "    }\n",
       "\n",
       "    .dataframe thead th {\n",
       "        text-align: right;\n",
       "    }\n",
       "</style>\n",
       "<table border=\"1\" class=\"dataframe\">\n",
       "  <thead>\n",
       "    <tr style=\"text-align: right;\">\n",
       "      <th></th>\n",
       "      <th>population</th>\n",
       "      <th>gdp_per_capita</th>\n",
       "      <th>human_development_index</th>\n",
       "      <th>gender_inequality_index</th>\n",
       "      <th>corruption_perceptions_index</th>\n",
       "      <th>total</th>\n",
       "    </tr>\n",
       "    <tr>\n",
       "      <th>country_name</th>\n",
       "      <th></th>\n",
       "      <th></th>\n",
       "      <th></th>\n",
       "      <th></th>\n",
       "      <th></th>\n",
       "      <th></th>\n",
       "    </tr>\n",
       "  </thead>\n",
       "  <tbody>\n",
       "    <tr>\n",
       "      <th>Afghanistan</th>\n",
       "      <td>33370794</td>\n",
       "      <td>613.856689</td>\n",
       "      <td>0.465</td>\n",
       "      <td>0.676</td>\n",
       "      <td>12</td>\n",
       "      <td>1</td>\n",
       "    </tr>\n",
       "    <tr>\n",
       "      <th>Albania</th>\n",
       "      <td>2889104</td>\n",
       "      <td>4578.631994</td>\n",
       "      <td>0.733</td>\n",
       "      <td>0.267</td>\n",
       "      <td>33</td>\n",
       "      <td>0</td>\n",
       "    </tr>\n",
       "    <tr>\n",
       "      <th>United Arab Emirates</th>\n",
       "      <td>9214175</td>\n",
       "      <td>43751.838890</td>\n",
       "      <td>0.835</td>\n",
       "      <td>0.247</td>\n",
       "      <td>70</td>\n",
       "      <td>0</td>\n",
       "    </tr>\n",
       "    <tr>\n",
       "      <th>Argentina</th>\n",
       "      <td>42669500</td>\n",
       "      <td>12334.798250</td>\n",
       "      <td>0.836</td>\n",
       "      <td>0.364</td>\n",
       "      <td>34</td>\n",
       "      <td>4</td>\n",
       "    </tr>\n",
       "    <tr>\n",
       "      <th>Armenia</th>\n",
       "      <td>2912403</td>\n",
       "      <td>3986.231624</td>\n",
       "      <td>0.733</td>\n",
       "      <td>0.299</td>\n",
       "      <td>37</td>\n",
       "      <td>2</td>\n",
       "    </tr>\n",
       "  </tbody>\n",
       "</table>\n",
       "</div>"
      ],
      "text/plain": [
       "                      population  gdp_per_capita  human_development_index  \\\n",
       "country_name                                                                \n",
       "Afghanistan             33370794      613.856689                    0.465   \n",
       "Albania                  2889104     4578.631994                    0.733   \n",
       "United Arab Emirates     9214175    43751.838890                    0.835   \n",
       "Argentina               42669500    12334.798250                    0.836   \n",
       "Armenia                  2912403     3986.231624                    0.733   \n",
       "\n",
       "                      gender_inequality_index  corruption_perceptions_index  \\\n",
       "country_name                                                                  \n",
       "Afghanistan                             0.676                            12   \n",
       "Albania                                 0.267                            33   \n",
       "United Arab Emirates                    0.247                            70   \n",
       "Argentina                               0.364                            34   \n",
       "Armenia                                 0.299                            37   \n",
       "\n",
       "                      total  \n",
       "country_name                 \n",
       "Afghanistan               1  \n",
       "Albania                   0  \n",
       "United Arab Emirates      0  \n",
       "Argentina                 4  \n",
       "Armenia                   2  "
      ]
     },
     "execution_count": 3,
     "metadata": {},
     "output_type": "execute_result"
    }
   ],
   "source": [
    "df = df.set_index(\"country_name\",drop=True)\n",
    "df.head()"
   ]
  },
  {
   "cell_type": "code",
   "execution_count": 4,
   "metadata": {},
   "outputs": [
    {
     "data": {
      "text/html": [
       "<div>\n",
       "<style scoped>\n",
       "    .dataframe tbody tr th:only-of-type {\n",
       "        vertical-align: middle;\n",
       "    }\n",
       "\n",
       "    .dataframe tbody tr th {\n",
       "        vertical-align: top;\n",
       "    }\n",
       "\n",
       "    .dataframe thead th {\n",
       "        text-align: right;\n",
       "    }\n",
       "</style>\n",
       "<table border=\"1\" class=\"dataframe\">\n",
       "  <thead>\n",
       "    <tr style=\"text-align: right;\">\n",
       "      <th></th>\n",
       "      <th>population</th>\n",
       "      <th>gdp_per_capita</th>\n",
       "      <th>human_development_index</th>\n",
       "      <th>gender_inequality_index</th>\n",
       "      <th>corruption_perceptions_index</th>\n",
       "      <th>count_of_medals</th>\n",
       "    </tr>\n",
       "    <tr>\n",
       "      <th>country_name</th>\n",
       "      <th></th>\n",
       "      <th></th>\n",
       "      <th></th>\n",
       "      <th></th>\n",
       "      <th></th>\n",
       "      <th></th>\n",
       "    </tr>\n",
       "  </thead>\n",
       "  <tbody>\n",
       "    <tr>\n",
       "      <th>Afghanistan</th>\n",
       "      <td>33370794</td>\n",
       "      <td>613.856689</td>\n",
       "      <td>0.465</td>\n",
       "      <td>0.676</td>\n",
       "      <td>12</td>\n",
       "      <td>1</td>\n",
       "    </tr>\n",
       "    <tr>\n",
       "      <th>Albania</th>\n",
       "      <td>2889104</td>\n",
       "      <td>4578.631994</td>\n",
       "      <td>0.733</td>\n",
       "      <td>0.267</td>\n",
       "      <td>33</td>\n",
       "      <td>0</td>\n",
       "    </tr>\n",
       "    <tr>\n",
       "      <th>United Arab Emirates</th>\n",
       "      <td>9214175</td>\n",
       "      <td>43751.838890</td>\n",
       "      <td>0.835</td>\n",
       "      <td>0.247</td>\n",
       "      <td>70</td>\n",
       "      <td>0</td>\n",
       "    </tr>\n",
       "    <tr>\n",
       "      <th>Argentina</th>\n",
       "      <td>42669500</td>\n",
       "      <td>12334.798250</td>\n",
       "      <td>0.836</td>\n",
       "      <td>0.364</td>\n",
       "      <td>34</td>\n",
       "      <td>4</td>\n",
       "    </tr>\n",
       "    <tr>\n",
       "      <th>Armenia</th>\n",
       "      <td>2912403</td>\n",
       "      <td>3986.231624</td>\n",
       "      <td>0.733</td>\n",
       "      <td>0.299</td>\n",
       "      <td>37</td>\n",
       "      <td>2</td>\n",
       "    </tr>\n",
       "  </tbody>\n",
       "</table>\n",
       "</div>"
      ],
      "text/plain": [
       "                      population  gdp_per_capita  human_development_index  \\\n",
       "country_name                                                                \n",
       "Afghanistan             33370794      613.856689                    0.465   \n",
       "Albania                  2889104     4578.631994                    0.733   \n",
       "United Arab Emirates     9214175    43751.838890                    0.835   \n",
       "Argentina               42669500    12334.798250                    0.836   \n",
       "Armenia                  2912403     3986.231624                    0.733   \n",
       "\n",
       "                      gender_inequality_index  corruption_perceptions_index  \\\n",
       "country_name                                                                  \n",
       "Afghanistan                             0.676                            12   \n",
       "Albania                                 0.267                            33   \n",
       "United Arab Emirates                    0.247                            70   \n",
       "Argentina                               0.364                            34   \n",
       "Armenia                                 0.299                            37   \n",
       "\n",
       "                      count_of_medals  \n",
       "country_name                           \n",
       "Afghanistan                         1  \n",
       "Albania                             0  \n",
       "United Arab Emirates                0  \n",
       "Argentina                           4  \n",
       "Armenia                             2  "
      ]
     },
     "execution_count": 4,
     "metadata": {},
     "output_type": "execute_result"
    }
   ],
   "source": [
    "new_df = df.rename(columns={\"total\": \"count_of_medals\"})\n",
    "new_df.head()"
   ]
  },
  {
   "cell_type": "markdown",
   "metadata": {},
   "source": [
    "### Split our preprocessed data into our features and target arrays"
   ]
  },
  {
   "cell_type": "code",
   "execution_count": 5,
   "metadata": {},
   "outputs": [],
   "source": [
    "# Create our target\n",
    "y = new_df[\"count_of_medals\"].values"
   ]
  },
  {
   "cell_type": "code",
   "execution_count": 6,
   "metadata": {},
   "outputs": [],
   "source": [
    "# Create our features\n",
    "X = new_df.drop([\"count_of_medals\"], axis=1).values"
   ]
  },
  {
   "cell_type": "code",
   "execution_count": 7,
   "metadata": {},
   "outputs": [],
   "source": [
    "# Splitting data into a training and testing dataset\n",
    "X_train, X_test, y_train, y_test = train_test_split(X, y, random_state=15)"
   ]
  },
  {
   "cell_type": "code",
   "execution_count": 8,
   "metadata": {},
   "outputs": [],
   "source": [
    "# Create a StandardScaler instances\n",
    "scaler = StandardScaler()\n",
    "\n",
    "# Fit the StandardScaler\n",
    "X_scaler = scaler.fit(X_train)\n",
    "\n",
    "# Scale the data\n",
    "X_train_scaled = X_scaler.transform(X_train)\n",
    "X_test_scaled = X_scaler.transform(X_test)"
   ]
  },
  {
   "cell_type": "code",
   "execution_count": 9,
   "metadata": {},
   "outputs": [
    {
     "data": {
      "text/plain": [
       "RandomForestRegressor(n_estimators=128, random_state=15)"
      ]
     },
     "execution_count": 9,
     "metadata": {},
     "output_type": "execute_result"
    }
   ],
   "source": [
    "# Training Random Forest Regression model \n",
    "rf_model = RandomForestRegressor(n_estimators=128, random_state=15)\n",
    "# Fitting the model\n",
    "rf_model.fit(X_train, y_train)"
   ]
  },
  {
   "cell_type": "code",
   "execution_count": 10,
   "metadata": {},
   "outputs": [
    {
     "data": {
      "text/plain": [
       "array([1.40625000e-01, 7.25000000e+00, 4.93750000e+00, 1.56250000e-02,\n",
       "       7.44531250e+00, 2.50000000e-01, 7.81250000e-03, 1.16406250e+00,\n",
       "       1.82031250e+00, 2.31015625e+01, 1.48046875e+01, 5.54687500e-01,\n",
       "       2.60156250e+00, 4.10937500e+00, 5.51562500e+00, 8.90625000e-01,\n",
       "       3.98437500e-01, 1.61718750e+00, 5.57031250e+00, 7.82031250e+00,\n",
       "       7.96796875e+01, 1.44453125e+01, 5.15625000e-01, 7.31250000e+00,\n",
       "       5.85156250e+00, 7.25000000e+00, 3.89843750e+00, 4.17187500e+00,\n",
       "       5.39843750e+00, 6.39843750e+00, 7.81250000e-03, 4.39843750e+00,\n",
       "       2.34375000e-02, 5.57031250e+00, 3.90625000e-02, 1.25000000e-01,\n",
       "       3.48750000e+01, 3.79531250e+01, 2.53125000e+00, 1.30781250e+01])"
      ]
     },
     "execution_count": 10,
     "metadata": {},
     "output_type": "execute_result"
    }
   ],
   "source": [
    "# Making predictions using the testing data.\n",
    "predictions = rf_model.predict(X_test)\n",
    "predictions"
   ]
  },
  {
   "cell_type": "code",
   "execution_count": 11,
   "metadata": {},
   "outputs": [
    {
     "data": {
      "text/plain": [
       "array([0.60158498, 0.03197819, 0.17599934, 0.11536234, 0.07507516])"
      ]
     },
     "execution_count": 11,
     "metadata": {},
     "output_type": "execute_result"
    }
   ],
   "source": [
    "# Calculate feature importance in the Random Forest model.\n",
    "importances = rf_model.feature_importances_\n",
    "importances\n"
   ]
  },
  {
   "cell_type": "code",
   "execution_count": 12,
   "metadata": {},
   "outputs": [
    {
     "data": {
      "text/plain": [
       "array([ 2.3359375,  2.3359375,  2.515625 ,  2.3359375, 11.2578125,\n",
       "        2.3359375,  2.3359375,  9.765625 ,  2.953125 , 15.9921875,\n",
       "       15.9921875,  2.515625 ,  9.765625 ,  2.3359375, 11.0546875,\n",
       "        9.765625 ,  2.3359375, 12.640625 ,  2.4765625, 15.9921875,\n",
       "        2.3359375, 15.9921875,  2.3359375, 15.9921875,  2.3359375,\n",
       "        6.09375  , 11.53125  ,  2.3359375,  3.0078125,  9.765625 ,\n",
       "        2.3359375,  2.3359375,  2.3359375, 10.0390625,  2.3359375,\n",
       "        2.3359375, 15.9921875, 15.9921875,  2.328125 ,  9.765625 ])"
      ]
     },
     "execution_count": 12,
     "metadata": {},
     "output_type": "execute_result"
    }
   ],
   "source": [
    "# Evaluate the model\n",
    "y_pred = rf_model.predict(X_test_scaled)\n",
    "y_pred"
   ]
  },
  {
   "cell_type": "code",
   "execution_count": 13,
   "metadata": {},
   "outputs": [
    {
     "name": "stdout",
     "output_type": "stream",
     "text": [
      " Random forest predictive accuracy: 0.130\n"
     ]
    }
   ],
   "source": [
    "print(f\" Random forest predictive accuracy: {rf_model.score(X_test_scaled, y_test):.3f}\")"
   ]
  },
  {
   "cell_type": "markdown",
   "metadata": {},
   "source": [
    "### Saving the model"
   ]
  },
  {
   "cell_type": "code",
   "execution_count": 14,
   "metadata": {},
   "outputs": [
    {
     "data": {
      "text/plain": [
       "['trained_rf_model.joblib']"
      ]
     },
     "execution_count": 14,
     "metadata": {},
     "output_type": "execute_result"
    }
   ],
   "source": [
    "joblib.dump(rf_model,\"trained_rf_model.joblib\")"
   ]
  },
  {
   "cell_type": "code",
   "execution_count": null,
   "metadata": {},
   "outputs": [],
   "source": []
  },
  {
   "cell_type": "code",
   "execution_count": null,
   "metadata": {},
   "outputs": [],
   "source": []
  }
 ],
 "metadata": {
  "kernelspec": {
   "display_name": "Python 3",
   "language": "python",
   "name": "python3"
  },
  "language_info": {
   "codemirror_mode": {
    "name": "ipython",
    "version": 3
   },
   "file_extension": ".py",
   "mimetype": "text/x-python",
   "name": "python",
   "nbconvert_exporter": "python",
   "pygments_lexer": "ipython3",
   "version": "3.7.7"
  }
 },
 "nbformat": 4,
 "nbformat_minor": 4
}
