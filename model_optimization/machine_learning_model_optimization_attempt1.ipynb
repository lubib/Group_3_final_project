{
 "cells": [
  {
   "cell_type": "code",
   "execution_count": 1,
   "metadata": {},
   "outputs": [],
   "source": [
    "# Import our dependencies\n",
    "import pandas as pd\n",
    "from path import Path\n",
    "import numpy as np\n",
    "from sklearn.preprocessing import StandardScaler\n",
    "from sklearn.model_selection import train_test_split\n",
    "from sklearn.ensemble import RandomForestRegressor\n",
    "import joblib"
   ]
  },
  {
   "cell_type": "code",
   "execution_count": 2,
   "metadata": {},
   "outputs": [
    {
     "data": {
      "text/html": [
       "<div>\n",
       "<style scoped>\n",
       "    .dataframe tbody tr th:only-of-type {\n",
       "        vertical-align: middle;\n",
       "    }\n",
       "\n",
       "    .dataframe tbody tr th {\n",
       "        vertical-align: top;\n",
       "    }\n",
       "\n",
       "    .dataframe thead th {\n",
       "        text-align: right;\n",
       "    }\n",
       "</style>\n",
       "<table border=\"1\" class=\"dataframe\">\n",
       "  <thead>\n",
       "    <tr style=\"text-align: right;\">\n",
       "      <th></th>\n",
       "      <th>country_name</th>\n",
       "      <th>population</th>\n",
       "      <th>gdp_per_capita</th>\n",
       "      <th>human_development_index</th>\n",
       "      <th>gender_inequality_index</th>\n",
       "      <th>corruption_perceptions_index</th>\n",
       "      <th>total</th>\n",
       "    </tr>\n",
       "  </thead>\n",
       "  <tbody>\n",
       "    <tr>\n",
       "      <th>0</th>\n",
       "      <td>Afghanistan</td>\n",
       "      <td>33370794</td>\n",
       "      <td>613.856689</td>\n",
       "      <td>0.465</td>\n",
       "      <td>0.676</td>\n",
       "      <td>12</td>\n",
       "      <td>1</td>\n",
       "    </tr>\n",
       "    <tr>\n",
       "      <th>1</th>\n",
       "      <td>Albania</td>\n",
       "      <td>2889104</td>\n",
       "      <td>4578.631994</td>\n",
       "      <td>0.733</td>\n",
       "      <td>0.267</td>\n",
       "      <td>33</td>\n",
       "      <td>0</td>\n",
       "    </tr>\n",
       "    <tr>\n",
       "      <th>2</th>\n",
       "      <td>United Arab Emirates</td>\n",
       "      <td>9214175</td>\n",
       "      <td>43751.838890</td>\n",
       "      <td>0.835</td>\n",
       "      <td>0.247</td>\n",
       "      <td>70</td>\n",
       "      <td>0</td>\n",
       "    </tr>\n",
       "    <tr>\n",
       "      <th>3</th>\n",
       "      <td>Argentina</td>\n",
       "      <td>42669500</td>\n",
       "      <td>12334.798250</td>\n",
       "      <td>0.836</td>\n",
       "      <td>0.364</td>\n",
       "      <td>34</td>\n",
       "      <td>4</td>\n",
       "    </tr>\n",
       "    <tr>\n",
       "      <th>4</th>\n",
       "      <td>Armenia</td>\n",
       "      <td>2912403</td>\n",
       "      <td>3986.231624</td>\n",
       "      <td>0.733</td>\n",
       "      <td>0.299</td>\n",
       "      <td>37</td>\n",
       "      <td>2</td>\n",
       "    </tr>\n",
       "    <tr>\n",
       "      <th>5</th>\n",
       "      <td>Australia</td>\n",
       "      <td>23475686</td>\n",
       "      <td>62510.791170</td>\n",
       "      <td>0.935</td>\n",
       "      <td>0.123</td>\n",
       "      <td>80</td>\n",
       "      <td>38</td>\n",
       "    </tr>\n",
       "    <tr>\n",
       "      <th>6</th>\n",
       "      <td>Austria</td>\n",
       "      <td>8546356</td>\n",
       "      <td>51717.495940</td>\n",
       "      <td>0.885</td>\n",
       "      <td>0.083</td>\n",
       "      <td>72</td>\n",
       "      <td>17</td>\n",
       "    </tr>\n",
       "    <tr>\n",
       "      <th>7</th>\n",
       "      <td>Azerbaijan</td>\n",
       "      <td>9535079</td>\n",
       "      <td>7891.313147</td>\n",
       "      <td>0.751</td>\n",
       "      <td>0.330</td>\n",
       "      <td>29</td>\n",
       "      <td>9</td>\n",
       "    </tr>\n",
       "    <tr>\n",
       "      <th>8</th>\n",
       "      <td>Burundi</td>\n",
       "      <td>9844297</td>\n",
       "      <td>274.857948</td>\n",
       "      <td>0.400</td>\n",
       "      <td>0.483</td>\n",
       "      <td>20</td>\n",
       "      <td>0</td>\n",
       "    </tr>\n",
       "    <tr>\n",
       "      <th>9</th>\n",
       "      <td>Belgium</td>\n",
       "      <td>11209057</td>\n",
       "      <td>47700.540360</td>\n",
       "      <td>0.890</td>\n",
       "      <td>0.076</td>\n",
       "      <td>76</td>\n",
       "      <td>3</td>\n",
       "    </tr>\n",
       "  </tbody>\n",
       "</table>\n",
       "</div>"
      ],
      "text/plain": [
       "           country_name  population  gdp_per_capita  human_development_index  \\\n",
       "0           Afghanistan    33370794      613.856689                    0.465   \n",
       "1               Albania     2889104     4578.631994                    0.733   \n",
       "2  United Arab Emirates     9214175    43751.838890                    0.835   \n",
       "3             Argentina    42669500    12334.798250                    0.836   \n",
       "4               Armenia     2912403     3986.231624                    0.733   \n",
       "5             Australia    23475686    62510.791170                    0.935   \n",
       "6               Austria     8546356    51717.495940                    0.885   \n",
       "7            Azerbaijan     9535079     7891.313147                    0.751   \n",
       "8               Burundi     9844297      274.857948                    0.400   \n",
       "9               Belgium    11209057    47700.540360                    0.890   \n",
       "\n",
       "   gender_inequality_index  corruption_perceptions_index  total  \n",
       "0                    0.676                            12      1  \n",
       "1                    0.267                            33      0  \n",
       "2                    0.247                            70      0  \n",
       "3                    0.364                            34      4  \n",
       "4                    0.299                            37      2  \n",
       "5                    0.123                            80     38  \n",
       "6                    0.083                            72     17  \n",
       "7                    0.330                            29      9  \n",
       "8                    0.483                            20      0  \n",
       "9                    0.076                            76      3  "
      ]
     },
     "execution_count": 2,
     "metadata": {},
     "output_type": "execute_result"
    }
   ],
   "source": [
    "# Import our clean dataset\n",
    "file_path = Path(\"../clean_data/combined_olympic_data.csv\")\n",
    "df = pd.read_csv(file_path)\n",
    "df.head(10)"
   ]
  },
  {
   "cell_type": "code",
   "execution_count": 3,
   "metadata": {},
   "outputs": [
    {
     "data": {
      "text/html": [
       "<div>\n",
       "<style scoped>\n",
       "    .dataframe tbody tr th:only-of-type {\n",
       "        vertical-align: middle;\n",
       "    }\n",
       "\n",
       "    .dataframe tbody tr th {\n",
       "        vertical-align: top;\n",
       "    }\n",
       "\n",
       "    .dataframe thead th {\n",
       "        text-align: right;\n",
       "    }\n",
       "</style>\n",
       "<table border=\"1\" class=\"dataframe\">\n",
       "  <thead>\n",
       "    <tr style=\"text-align: right;\">\n",
       "      <th></th>\n",
       "      <th>population</th>\n",
       "      <th>gdp_per_capita</th>\n",
       "      <th>human_development_index</th>\n",
       "      <th>gender_inequality_index</th>\n",
       "      <th>corruption_perceptions_index</th>\n",
       "      <th>total</th>\n",
       "    </tr>\n",
       "    <tr>\n",
       "      <th>country_name</th>\n",
       "      <th></th>\n",
       "      <th></th>\n",
       "      <th></th>\n",
       "      <th></th>\n",
       "      <th></th>\n",
       "      <th></th>\n",
       "    </tr>\n",
       "  </thead>\n",
       "  <tbody>\n",
       "    <tr>\n",
       "      <th>Afghanistan</th>\n",
       "      <td>33370794</td>\n",
       "      <td>613.856689</td>\n",
       "      <td>0.465</td>\n",
       "      <td>0.676</td>\n",
       "      <td>12</td>\n",
       "      <td>1</td>\n",
       "    </tr>\n",
       "    <tr>\n",
       "      <th>Albania</th>\n",
       "      <td>2889104</td>\n",
       "      <td>4578.631994</td>\n",
       "      <td>0.733</td>\n",
       "      <td>0.267</td>\n",
       "      <td>33</td>\n",
       "      <td>0</td>\n",
       "    </tr>\n",
       "    <tr>\n",
       "      <th>United Arab Emirates</th>\n",
       "      <td>9214175</td>\n",
       "      <td>43751.838890</td>\n",
       "      <td>0.835</td>\n",
       "      <td>0.247</td>\n",
       "      <td>70</td>\n",
       "      <td>0</td>\n",
       "    </tr>\n",
       "    <tr>\n",
       "      <th>Argentina</th>\n",
       "      <td>42669500</td>\n",
       "      <td>12334.798250</td>\n",
       "      <td>0.836</td>\n",
       "      <td>0.364</td>\n",
       "      <td>34</td>\n",
       "      <td>4</td>\n",
       "    </tr>\n",
       "    <tr>\n",
       "      <th>Armenia</th>\n",
       "      <td>2912403</td>\n",
       "      <td>3986.231624</td>\n",
       "      <td>0.733</td>\n",
       "      <td>0.299</td>\n",
       "      <td>37</td>\n",
       "      <td>2</td>\n",
       "    </tr>\n",
       "  </tbody>\n",
       "</table>\n",
       "</div>"
      ],
      "text/plain": [
       "                      population  gdp_per_capita  human_development_index  \\\n",
       "country_name                                                                \n",
       "Afghanistan             33370794      613.856689                    0.465   \n",
       "Albania                  2889104     4578.631994                    0.733   \n",
       "United Arab Emirates     9214175    43751.838890                    0.835   \n",
       "Argentina               42669500    12334.798250                    0.836   \n",
       "Armenia                  2912403     3986.231624                    0.733   \n",
       "\n",
       "                      gender_inequality_index  corruption_perceptions_index  \\\n",
       "country_name                                                                  \n",
       "Afghanistan                             0.676                            12   \n",
       "Albania                                 0.267                            33   \n",
       "United Arab Emirates                    0.247                            70   \n",
       "Argentina                               0.364                            34   \n",
       "Armenia                                 0.299                            37   \n",
       "\n",
       "                      total  \n",
       "country_name                 \n",
       "Afghanistan               1  \n",
       "Albania                   0  \n",
       "United Arab Emirates      0  \n",
       "Argentina                 4  \n",
       "Armenia                   2  "
      ]
     },
     "execution_count": 3,
     "metadata": {},
     "output_type": "execute_result"
    }
   ],
   "source": [
    "df = df.set_index(\"country_name\",drop=True)\n",
    "df.head()"
   ]
  },
  {
   "cell_type": "code",
   "execution_count": 4,
   "metadata": {},
   "outputs": [
    {
     "data": {
      "text/html": [
       "<div>\n",
       "<style scoped>\n",
       "    .dataframe tbody tr th:only-of-type {\n",
       "        vertical-align: middle;\n",
       "    }\n",
       "\n",
       "    .dataframe tbody tr th {\n",
       "        vertical-align: top;\n",
       "    }\n",
       "\n",
       "    .dataframe thead th {\n",
       "        text-align: right;\n",
       "    }\n",
       "</style>\n",
       "<table border=\"1\" class=\"dataframe\">\n",
       "  <thead>\n",
       "    <tr style=\"text-align: right;\">\n",
       "      <th></th>\n",
       "      <th>population</th>\n",
       "      <th>gdp_per_capita</th>\n",
       "      <th>human_development_index</th>\n",
       "      <th>gender_inequality_index</th>\n",
       "      <th>corruption_perceptions_index</th>\n",
       "      <th>count_of_medals</th>\n",
       "    </tr>\n",
       "    <tr>\n",
       "      <th>country_name</th>\n",
       "      <th></th>\n",
       "      <th></th>\n",
       "      <th></th>\n",
       "      <th></th>\n",
       "      <th></th>\n",
       "      <th></th>\n",
       "    </tr>\n",
       "  </thead>\n",
       "  <tbody>\n",
       "    <tr>\n",
       "      <th>Afghanistan</th>\n",
       "      <td>33370794</td>\n",
       "      <td>613.856689</td>\n",
       "      <td>0.465</td>\n",
       "      <td>0.676</td>\n",
       "      <td>12</td>\n",
       "      <td>1</td>\n",
       "    </tr>\n",
       "    <tr>\n",
       "      <th>Albania</th>\n",
       "      <td>2889104</td>\n",
       "      <td>4578.631994</td>\n",
       "      <td>0.733</td>\n",
       "      <td>0.267</td>\n",
       "      <td>33</td>\n",
       "      <td>0</td>\n",
       "    </tr>\n",
       "    <tr>\n",
       "      <th>United Arab Emirates</th>\n",
       "      <td>9214175</td>\n",
       "      <td>43751.838890</td>\n",
       "      <td>0.835</td>\n",
       "      <td>0.247</td>\n",
       "      <td>70</td>\n",
       "      <td>0</td>\n",
       "    </tr>\n",
       "    <tr>\n",
       "      <th>Argentina</th>\n",
       "      <td>42669500</td>\n",
       "      <td>12334.798250</td>\n",
       "      <td>0.836</td>\n",
       "      <td>0.364</td>\n",
       "      <td>34</td>\n",
       "      <td>4</td>\n",
       "    </tr>\n",
       "    <tr>\n",
       "      <th>Armenia</th>\n",
       "      <td>2912403</td>\n",
       "      <td>3986.231624</td>\n",
       "      <td>0.733</td>\n",
       "      <td>0.299</td>\n",
       "      <td>37</td>\n",
       "      <td>2</td>\n",
       "    </tr>\n",
       "  </tbody>\n",
       "</table>\n",
       "</div>"
      ],
      "text/plain": [
       "                      population  gdp_per_capita  human_development_index  \\\n",
       "country_name                                                                \n",
       "Afghanistan             33370794      613.856689                    0.465   \n",
       "Albania                  2889104     4578.631994                    0.733   \n",
       "United Arab Emirates     9214175    43751.838890                    0.835   \n",
       "Argentina               42669500    12334.798250                    0.836   \n",
       "Armenia                  2912403     3986.231624                    0.733   \n",
       "\n",
       "                      gender_inequality_index  corruption_perceptions_index  \\\n",
       "country_name                                                                  \n",
       "Afghanistan                             0.676                            12   \n",
       "Albania                                 0.267                            33   \n",
       "United Arab Emirates                    0.247                            70   \n",
       "Argentina                               0.364                            34   \n",
       "Armenia                                 0.299                            37   \n",
       "\n",
       "                      count_of_medals  \n",
       "country_name                           \n",
       "Afghanistan                         1  \n",
       "Albania                             0  \n",
       "United Arab Emirates                0  \n",
       "Argentina                           4  \n",
       "Armenia                             2  "
      ]
     },
     "execution_count": 4,
     "metadata": {},
     "output_type": "execute_result"
    }
   ],
   "source": [
    "new_df = df.rename(columns={\"total\": \"count_of_medals\"})\n",
    "new_df.head()"
   ]
  },
  {
   "cell_type": "markdown",
   "metadata": {},
   "source": [
    "### Split our preprocessed data into our features and target arrays"
   ]
  },
  {
   "cell_type": "code",
   "execution_count": 5,
   "metadata": {},
   "outputs": [],
   "source": [
    "# Create our target\n",
    "y = new_df[\"count_of_medals\"].values"
   ]
  },
  {
   "cell_type": "code",
   "execution_count": 6,
   "metadata": {},
   "outputs": [
    {
     "data": {
      "text/html": [
       "<div>\n",
       "<style scoped>\n",
       "    .dataframe tbody tr th:only-of-type {\n",
       "        vertical-align: middle;\n",
       "    }\n",
       "\n",
       "    .dataframe tbody tr th {\n",
       "        vertical-align: top;\n",
       "    }\n",
       "\n",
       "    .dataframe thead th {\n",
       "        text-align: right;\n",
       "    }\n",
       "</style>\n",
       "<table border=\"1\" class=\"dataframe\">\n",
       "  <thead>\n",
       "    <tr style=\"text-align: right;\">\n",
       "      <th></th>\n",
       "      <th>population</th>\n",
       "      <th>human_development_index</th>\n",
       "      <th>gender_inequality_index</th>\n",
       "      <th>corruption_perceptions_index</th>\n",
       "      <th>gdp_total</th>\n",
       "    </tr>\n",
       "    <tr>\n",
       "      <th>country_name</th>\n",
       "      <th></th>\n",
       "      <th></th>\n",
       "      <th></th>\n",
       "      <th></th>\n",
       "      <th></th>\n",
       "    </tr>\n",
       "  </thead>\n",
       "  <tbody>\n",
       "    <tr>\n",
       "      <th>Afghanistan</th>\n",
       "      <td>33370794</td>\n",
       "      <td>0.465</td>\n",
       "      <td>0.676</td>\n",
       "      <td>0.12</td>\n",
       "      <td>2.048489e+10</td>\n",
       "    </tr>\n",
       "    <tr>\n",
       "      <th>Albania</th>\n",
       "      <td>2889104</td>\n",
       "      <td>0.733</td>\n",
       "      <td>0.267</td>\n",
       "      <td>0.33</td>\n",
       "      <td>1.322814e+10</td>\n",
       "    </tr>\n",
       "    <tr>\n",
       "      <th>United Arab Emirates</th>\n",
       "      <td>9214175</td>\n",
       "      <td>0.835</td>\n",
       "      <td>0.247</td>\n",
       "      <td>0.70</td>\n",
       "      <td>4.031371e+11</td>\n",
       "    </tr>\n",
       "    <tr>\n",
       "      <th>Argentina</th>\n",
       "      <td>42669500</td>\n",
       "      <td>0.836</td>\n",
       "      <td>0.364</td>\n",
       "      <td>0.34</td>\n",
       "      <td>5.263197e+11</td>\n",
       "    </tr>\n",
       "    <tr>\n",
       "      <th>Armenia</th>\n",
       "      <td>2912403</td>\n",
       "      <td>0.733</td>\n",
       "      <td>0.299</td>\n",
       "      <td>0.37</td>\n",
       "      <td>1.160951e+10</td>\n",
       "    </tr>\n",
       "  </tbody>\n",
       "</table>\n",
       "</div>"
      ],
      "text/plain": [
       "                      population  human_development_index  \\\n",
       "country_name                                                \n",
       "Afghanistan             33370794                    0.465   \n",
       "Albania                  2889104                    0.733   \n",
       "United Arab Emirates     9214175                    0.835   \n",
       "Argentina               42669500                    0.836   \n",
       "Armenia                  2912403                    0.733   \n",
       "\n",
       "                      gender_inequality_index  corruption_perceptions_index  \\\n",
       "country_name                                                                  \n",
       "Afghanistan                             0.676                          0.12   \n",
       "Albania                                 0.267                          0.33   \n",
       "United Arab Emirates                    0.247                          0.70   \n",
       "Argentina                               0.364                          0.34   \n",
       "Armenia                                 0.299                          0.37   \n",
       "\n",
       "                         gdp_total  \n",
       "country_name                        \n",
       "Afghanistan           2.048489e+10  \n",
       "Albania               1.322814e+10  \n",
       "United Arab Emirates  4.031371e+11  \n",
       "Argentina             5.263197e+11  \n",
       "Armenia               1.160951e+10  "
      ]
     },
     "execution_count": 6,
     "metadata": {},
     "output_type": "execute_result"
    }
   ],
   "source": [
    "# Create our features\n",
    "# Transforming CPI to values between 0-1\n",
    "new_df[\"corruption_perceptions_index\"] = new_df[\"corruption_perceptions_index\"] / 100\n",
    "# Replacing GDP per capita with total GDP\n",
    "new_df[\"gdp_total\"] = new_df[\"population\"] * new_df[\"gdp_per_capita\"]\n",
    "# new_df = new_df.drop([\"count_of_medals\",\"population\",\"gdp_per_capita\", \"gender_inequality_index\", \"corruption_perceptions_index\"], axis=1)\n",
    "X = new_df.drop([\"count_of_medals\", \"gdp_per_capita\"], axis=1)\n",
    "X.head()"
   ]
  },
  {
   "cell_type": "code",
   "execution_count": 7,
   "metadata": {},
   "outputs": [],
   "source": [
    "# Splitting data into a training and testing dataset\n",
    "X_train, X_test, y_train, y_test = train_test_split(X, y, test_size=0.25, random_state=15)"
   ]
  },
  {
   "cell_type": "code",
   "execution_count": 8,
   "metadata": {},
   "outputs": [],
   "source": [
    "# Create a StandardScaler instances\n",
    "scaler = StandardScaler()\n",
    "\n",
    "# Fit the StandardScaler\n",
    "X_scaler = scaler.fit(X_train)\n",
    "\n",
    "# Scale the data\n",
    "X_train_scaled = X_scaler.transform(X_train)\n",
    "X_test_scaled = X_scaler.transform(X_test)"
   ]
  },
  {
   "cell_type": "code",
   "execution_count": 9,
   "metadata": {},
   "outputs": [],
   "source": [
    "# Training Random Forest Regression model \n",
    "rf_model = RandomForestRegressor(n_estimators=128, random_state=15)\n",
    "# Fitting the model\n",
    "rf_model = rf_model.fit(X_train_scaled, y_train)"
   ]
  },
  {
   "cell_type": "code",
   "execution_count": 10,
   "metadata": {},
   "outputs": [
    {
     "data": {
      "text/plain": [
       "array([1.64062500e+00, 0.00000000e+00, 3.90625000e-02, 3.59375000e-01,\n",
       "       8.89843750e+00, 8.65156250e+01, 2.89843750e+00, 5.43750000e+00,\n",
       "       2.50781250e+00, 1.79687500e-01, 2.34375000e-02, 1.02343750e+00,\n",
       "       2.78125000e+00, 3.06250000e+00, 2.19921875e+01, 0.00000000e+00,\n",
       "       1.79687500e-01, 1.04640625e+02, 9.45312500e-01, 4.68750000e-02,\n",
       "       2.77343750e+00, 6.48437500e-01, 1.35546875e+01, 2.34375000e-02,\n",
       "       2.68750000e+00, 1.04921875e+01, 1.29843750e+01, 3.76562500e+00,\n",
       "       1.06640625e+01, 5.56250000e+00, 3.47265625e+01, 2.02656250e+01,\n",
       "       1.56250000e-01, 0.00000000e+00, 1.83593750e+00, 0.00000000e+00,\n",
       "       1.31796875e+01, 1.05703125e+01, 4.45312500e-01, 8.59375000e-02,\n",
       "       1.15625000e+00, 1.44531250e+00, 6.56250000e-01, 4.85156250e+00,\n",
       "       1.63281250e+00, 5.35937500e+00, 0.00000000e+00, 7.81250000e-03,\n",
       "       5.08203125e+01, 6.82812500e+00, 0.00000000e+00, 0.00000000e+00,\n",
       "       9.21875000e-01, 1.31250000e+00, 1.07812500e+00, 9.37500000e-02,\n",
       "       1.67187500e+00, 2.64843750e+00, 2.52343750e+00, 4.31250000e+00,\n",
       "       1.26562500e+00, 3.04687500e-01, 3.90625000e-02, 1.20000000e+01,\n",
       "       1.10937500e+00, 1.36718750e+00, 1.87500000e+00, 1.25000000e-01,\n",
       "       2.04687500e+00, 6.40625000e-01, 5.07031250e+00, 3.79687500e+00,\n",
       "       6.07578125e+01, 0.00000000e+00, 6.39843750e+00, 5.77343750e+00,\n",
       "       7.17187500e+00, 3.94218750e+01, 4.84375000e+00, 2.03125000e+00,\n",
       "       7.03125000e-02, 5.46875000e-02, 4.47656250e+00, 3.81250000e+00,\n",
       "       7.60156250e+00, 1.33593750e+00, 7.81250000e-03, 1.64062500e-01,\n",
       "       4.68750000e+00, 3.34140625e+01, 8.35937500e-01, 2.05468750e+00,\n",
       "       6.04687500e+00, 4.10156250e+00, 3.33828125e+01, 1.71875000e-01,\n",
       "       3.51562500e-01, 3.51562500e-01, 1.27812500e+01, 1.56250000e-02,\n",
       "       9.84375000e-01, 7.81250000e-03, 0.00000000e+00, 2.03906250e+00,\n",
       "       3.15625000e+01, 6.05937500e+01, 2.03906250e+00, 2.45000000e+01,\n",
       "       3.08593750e+00, 1.56250000e-02, 7.32812500e+00, 7.81250000e-03,\n",
       "       1.37890625e+01, 7.81250000e-03, 3.20312500e+00, 5.46875000e-02,\n",
       "       2.20312500e+00, 1.19375000e+01, 9.60937500e-01])"
      ]
     },
     "execution_count": 10,
     "metadata": {},
     "output_type": "execute_result"
    }
   ],
   "source": [
    "# Making predictions with the training data to see how closely the model fits data when it knows the target answer\n",
    "predictions = rf_model.predict(X_train_scaled)\n",
    "predictions"
   ]
  },
  {
   "cell_type": "code",
   "execution_count": 11,
   "metadata": {},
   "outputs": [
    {
     "data": {
      "text/plain": [
       "array([0.08205307, 0.04803596, 0.0752005 , 0.03873386, 0.7559766 ])"
      ]
     },
     "execution_count": 11,
     "metadata": {},
     "output_type": "execute_result"
    }
   ],
   "source": [
    "# Calculate feature importance in the Random Forest model.\n",
    "importances = rf_model.feature_importances_\n",
    "importances\n"
   ]
  },
  {
   "cell_type": "code",
   "execution_count": 12,
   "metadata": {},
   "outputs": [
    {
     "data": {
      "text/plain": [
       "array([3.12500000e-02, 4.78906250e+00, 4.78906250e+00, 8.59375000e-02,\n",
       "       7.09375000e+00, 1.32812500e-01, 1.56250000e-02, 1.27343750e+00,\n",
       "       4.07031250e+00, 2.46640625e+01, 1.53046875e+01, 3.98437500e-01,\n",
       "       2.11718750e+00, 4.28906250e+00, 4.20312500e+00, 7.65625000e-01,\n",
       "       7.03125000e-02, 1.61718750e+00, 4.68750000e+00, 9.39062500e+00,\n",
       "       4.03281250e+01, 9.89062500e+00, 3.98437500e-01, 2.76562500e+00,\n",
       "       4.14062500e+00, 7.42968750e+00, 4.64062500e+00, 3.41406250e+00,\n",
       "       3.50000000e+00, 7.89843750e+00, 1.56250000e-02, 4.46875000e+00,\n",
       "       3.90625000e-02, 4.82031250e+00, 7.03125000e-02, 7.81250000e-03,\n",
       "       5.65468750e+01, 3.57656250e+01, 2.15625000e+00, 2.99765625e+01])"
      ]
     },
     "execution_count": 12,
     "metadata": {},
     "output_type": "execute_result"
    }
   ],
   "source": [
    "# Making predictions with the test data\n",
    "y_pred = rf_model.predict(X_test_scaled)\n",
    "y_pred"
   ]
  },
  {
   "cell_type": "code",
   "execution_count": 13,
   "metadata": {},
   "outputs": [
    {
     "name": "stdout",
     "output_type": "stream",
     "text": [
      " Random forest predictive ability (r^2): 0.458\n"
     ]
    }
   ],
   "source": [
    "print(f\" Random forest predictive ability (r^2): {rf_model.score(X_test_scaled, y_test):.3f}\")"
   ]
  },
  {
   "cell_type": "code",
   "execution_count": 14,
   "metadata": {},
   "outputs": [
    {
     "name": "stdout",
     "output_type": "stream",
     "text": [
      " Random forest predictive ability (r^2) (on training data): 0.958\n"
     ]
    }
   ],
   "source": [
    "print(f\" Random forest predictive ability (r^2) (on training data): {rf_model.score(X_train_scaled, y_train):.3f}\")"
   ]
  },
  {
   "cell_type": "markdown",
   "metadata": {},
   "source": [
    "### Saving the model"
   ]
  },
  {
   "cell_type": "code",
   "execution_count": 15,
   "metadata": {},
   "outputs": [
    {
     "data": {
      "text/plain": [
       "['trained_rf_model.joblib']"
      ]
     },
     "execution_count": 15,
     "metadata": {},
     "output_type": "execute_result"
    }
   ],
   "source": [
    "joblib.dump(rf_model,\"trained_rf_model.joblib\")"
   ]
  },
  {
   "cell_type": "markdown",
   "metadata": {},
   "source": [
    "### Visualizing model results "
   ]
  },
  {
   "cell_type": "code",
   "execution_count": 16,
   "metadata": {},
   "outputs": [
    {
     "data": {
      "text/plain": [
       "[0.0,\n",
       " 5.0,\n",
       " 5.0,\n",
       " 0.0,\n",
       " 7.0,\n",
       " 0.0,\n",
       " 0.0,\n",
       " 1.0,\n",
       " 4.0,\n",
       " 25.0,\n",
       " 15.0,\n",
       " 0.0,\n",
       " 2.0,\n",
       " 4.0,\n",
       " 4.0,\n",
       " 1.0,\n",
       " 0.0,\n",
       " 2.0,\n",
       " 5.0,\n",
       " 9.0,\n",
       " 40.0,\n",
       " 10.0,\n",
       " 0.0,\n",
       " 3.0,\n",
       " 4.0,\n",
       " 7.0,\n",
       " 5.0,\n",
       " 3.0,\n",
       " 4.0,\n",
       " 8.0,\n",
       " 0.0,\n",
       " 4.0,\n",
       " 0.0,\n",
       " 5.0,\n",
       " 0.0,\n",
       " 0.0,\n",
       " 57.0,\n",
       " 36.0,\n",
       " 2.0,\n",
       " 30.0]"
      ]
     },
     "execution_count": 16,
     "metadata": {},
     "output_type": "execute_result"
    }
   ],
   "source": [
    "pred_values_rounded = [round(number) for number in y_pred]\n",
    "pred_values_rounded"
   ]
  },
  {
   "cell_type": "code",
   "execution_count": 17,
   "metadata": {},
   "outputs": [],
   "source": [
    "%matplotlib inline\n",
    "import matplotlib.pyplot as plt"
   ]
  },
  {
   "cell_type": "code",
   "execution_count": 18,
   "metadata": {},
   "outputs": [
    {
     "data": {
      "text/plain": [
       "[<matplotlib.lines.Line2D at 0x22d953a3a88>]"
      ]
     },
     "execution_count": 18,
     "metadata": {},
     "output_type": "execute_result"
    },
    {
     "data": {
      "image/png": "[encoded data removed]",
      "text/plain": [
       "<Figure size 432x288 with 1 Axes>"
      ]
     },
     "metadata": {
      "needs_background": "light"
     },
     "output_type": "display_data"
    }
   ],
   "source": [
    "plt.grid()\n",
    "plt.title(\"Actual Values vs Predicted Values of Test Target\")\n",
    "plt.xlabel(\"y_test (Actual Medal Count)\")\n",
    "plt.ylabel(\"y_pred (Model Predicted Medal Count)\")\n",
    "plt.xticks(np.arange(0,101,step=10.0))\n",
    "plt.yticks(np.arange(0,101,step=10.0))\n",
    "plt.plot(y_test, pred_values_rounded, 'o')"
   ]
  },
  {
   "cell_type": "code",
   "execution_count": null,
   "metadata": {},
   "outputs": [],
   "source": []
  }
 ],
 "metadata": {
  "kernelspec": {
   "display_name": "Python 3",
   "language": "python",
   "name": "python3"
  },
  "language_info": {
   "codemirror_mode": {
    "name": "ipython",
    "version": 3
   },
   "file_extension": ".py",
   "mimetype": "text/x-python",
   "name": "python",
   "nbconvert_exporter": "python",
   "pygments_lexer": "ipython3",
   "version": "3.7.7"
  }
 },
 "nbformat": 4,
 "nbformat_minor": 4
}
