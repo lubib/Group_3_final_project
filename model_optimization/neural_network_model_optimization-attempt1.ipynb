{
 "cells": [
  {
   "cell_type": "code",
   "execution_count": 2,
   "metadata": {},
   "outputs": [],
   "source": [
    "# Import our dependencies\n",
    "import pandas as pd\n",
    "from path import Path\n",
    "import numpy as np\n",
    "from sklearn.preprocessing import StandardScaler\n",
    "from sklearn.preprocessing import MinMaxScaler\n",
    "from sklearn.model_selection import train_test_split\n",
    "import tensorflow as tf\n",
    "# Keras\n",
    "from tensorflow import keras\n",
    "from tensorflow.keras.models import Sequential\n",
    "from tensorflow.keras.utils import to_categorical\n",
    "from tensorflow.keras.layers import Dense\n",
    "from tensorflow.keras.datasets import mnist"
   ]
  },
  {
   "cell_type": "code",
   "execution_count": 4,
   "metadata": {},
   "outputs": [
    {
     "data": {
      "text/html": [
       "<div>\n",
       "<style scoped>\n",
       "    .dataframe tbody tr th:only-of-type {\n",
       "        vertical-align: middle;\n",
       "    }\n",
       "\n",
       "    .dataframe tbody tr th {\n",
       "        vertical-align: top;\n",
       "    }\n",
       "\n",
       "    .dataframe thead th {\n",
       "        text-align: right;\n",
       "    }\n",
       "</style>\n",
       "<table border=\"1\" class=\"dataframe\">\n",
       "  <thead>\n",
       "    <tr style=\"text-align: right;\">\n",
       "      <th></th>\n",
       "      <th>country_name</th>\n",
       "      <th>population</th>\n",
       "      <th>gdp_per_capita</th>\n",
       "      <th>human_development_index</th>\n",
       "      <th>gender_inequality_index</th>\n",
       "      <th>corruption_perceptions_index</th>\n",
       "      <th>total</th>\n",
       "    </tr>\n",
       "  </thead>\n",
       "  <tbody>\n",
       "    <tr>\n",
       "      <th>0</th>\n",
       "      <td>Afghanistan</td>\n",
       "      <td>33370794</td>\n",
       "      <td>613.856689</td>\n",
       "      <td>0.465</td>\n",
       "      <td>0.676</td>\n",
       "      <td>12</td>\n",
       "      <td>1</td>\n",
       "    </tr>\n",
       "    <tr>\n",
       "      <th>1</th>\n",
       "      <td>Albania</td>\n",
       "      <td>2889104</td>\n",
       "      <td>4578.631994</td>\n",
       "      <td>0.733</td>\n",
       "      <td>0.267</td>\n",
       "      <td>33</td>\n",
       "      <td>0</td>\n",
       "    </tr>\n",
       "    <tr>\n",
       "      <th>2</th>\n",
       "      <td>United Arab Emirates</td>\n",
       "      <td>9214175</td>\n",
       "      <td>43751.838890</td>\n",
       "      <td>0.835</td>\n",
       "      <td>0.247</td>\n",
       "      <td>70</td>\n",
       "      <td>0</td>\n",
       "    </tr>\n",
       "    <tr>\n",
       "      <th>3</th>\n",
       "      <td>Argentina</td>\n",
       "      <td>42669500</td>\n",
       "      <td>12334.798250</td>\n",
       "      <td>0.836</td>\n",
       "      <td>0.364</td>\n",
       "      <td>34</td>\n",
       "      <td>4</td>\n",
       "    </tr>\n",
       "    <tr>\n",
       "      <th>4</th>\n",
       "      <td>Armenia</td>\n",
       "      <td>2912403</td>\n",
       "      <td>3986.231624</td>\n",
       "      <td>0.733</td>\n",
       "      <td>0.299</td>\n",
       "      <td>37</td>\n",
       "      <td>2</td>\n",
       "    </tr>\n",
       "    <tr>\n",
       "      <th>5</th>\n",
       "      <td>Australia</td>\n",
       "      <td>23475686</td>\n",
       "      <td>62510.791170</td>\n",
       "      <td>0.935</td>\n",
       "      <td>0.123</td>\n",
       "      <td>80</td>\n",
       "      <td>38</td>\n",
       "    </tr>\n",
       "    <tr>\n",
       "      <th>6</th>\n",
       "      <td>Austria</td>\n",
       "      <td>8546356</td>\n",
       "      <td>51717.495940</td>\n",
       "      <td>0.885</td>\n",
       "      <td>0.083</td>\n",
       "      <td>72</td>\n",
       "      <td>17</td>\n",
       "    </tr>\n",
       "    <tr>\n",
       "      <th>7</th>\n",
       "      <td>Azerbaijan</td>\n",
       "      <td>9535079</td>\n",
       "      <td>7891.313147</td>\n",
       "      <td>0.751</td>\n",
       "      <td>0.330</td>\n",
       "      <td>29</td>\n",
       "      <td>9</td>\n",
       "    </tr>\n",
       "    <tr>\n",
       "      <th>8</th>\n",
       "      <td>Burundi</td>\n",
       "      <td>9844297</td>\n",
       "      <td>274.857948</td>\n",
       "      <td>0.400</td>\n",
       "      <td>0.483</td>\n",
       "      <td>20</td>\n",
       "      <td>0</td>\n",
       "    </tr>\n",
       "    <tr>\n",
       "      <th>9</th>\n",
       "      <td>Belgium</td>\n",
       "      <td>11209057</td>\n",
       "      <td>47700.540360</td>\n",
       "      <td>0.890</td>\n",
       "      <td>0.076</td>\n",
       "      <td>76</td>\n",
       "      <td>3</td>\n",
       "    </tr>\n",
       "  </tbody>\n",
       "</table>\n",
       "</div>"
      ],
      "text/plain": [
       "           country_name  population  gdp_per_capita  human_development_index  \\\n",
       "0           Afghanistan    33370794      613.856689                    0.465   \n",
       "1               Albania     2889104     4578.631994                    0.733   \n",
       "2  United Arab Emirates     9214175    43751.838890                    0.835   \n",
       "3             Argentina    42669500    12334.798250                    0.836   \n",
       "4               Armenia     2912403     3986.231624                    0.733   \n",
       "5             Australia    23475686    62510.791170                    0.935   \n",
       "6               Austria     8546356    51717.495940                    0.885   \n",
       "7            Azerbaijan     9535079     7891.313147                    0.751   \n",
       "8               Burundi     9844297      274.857948                    0.400   \n",
       "9               Belgium    11209057    47700.540360                    0.890   \n",
       "\n",
       "   gender_inequality_index  corruption_perceptions_index  total  \n",
       "0                    0.676                            12      1  \n",
       "1                    0.267                            33      0  \n",
       "2                    0.247                            70      0  \n",
       "3                    0.364                            34      4  \n",
       "4                    0.299                            37      2  \n",
       "5                    0.123                            80     38  \n",
       "6                    0.083                            72     17  \n",
       "7                    0.330                            29      9  \n",
       "8                    0.483                            20      0  \n",
       "9                    0.076                            76      3  "
      ]
     },
     "execution_count": 4,
     "metadata": {},
     "output_type": "execute_result"
    }
   ],
   "source": [
    "# Import our clean dataset\n",
    "file_path = Path(\"clean_data/combined_olympic_data.csv\")\n",
    "df = pd.read_csv(file_path)\n",
    "df.head(10)"
   ]
  },
  {
   "cell_type": "code",
   "execution_count": 3,
   "metadata": {},
   "outputs": [
    {
     "data": {
      "text/plain": [
       "0      75\n",
       "1      18\n",
       "2       8\n",
       "3       6\n",
       "4       5\n",
       "6       5\n",
       "8       4\n",
       "17      3\n",
       "5       3\n",
       "9       3\n",
       "12      3\n",
       "13      3\n",
       "7       2\n",
       "15      2\n",
       "18      2\n",
       "38      2\n",
       "100     1\n",
       "19      1\n",
       "16      1\n",
       "21      1\n",
       "23      1\n",
       "31      1\n",
       "36      1\n",
       "43      1\n",
       "44      1\n",
       "46      1\n",
       "50      1\n",
       "63      1\n",
       "70      1\n",
       "97      1\n",
       "132     1\n",
       "Name: total, dtype: int64"
      ]
     },
     "execution_count": 3,
     "metadata": {},
     "output_type": "execute_result"
    }
   ],
   "source": [
    "df[\"total\"].value_counts()"
   ]
  },
  {
   "cell_type": "code",
   "execution_count": 4,
   "metadata": {},
   "outputs": [
    {
     "data": {
      "text/html": [
       "<div>\n",
       "<style scoped>\n",
       "    .dataframe tbody tr th:only-of-type {\n",
       "        vertical-align: middle;\n",
       "    }\n",
       "\n",
       "    .dataframe tbody tr th {\n",
       "        vertical-align: top;\n",
       "    }\n",
       "\n",
       "    .dataframe thead th {\n",
       "        text-align: right;\n",
       "    }\n",
       "</style>\n",
       "<table border=\"1\" class=\"dataframe\">\n",
       "  <thead>\n",
       "    <tr style=\"text-align: right;\">\n",
       "      <th></th>\n",
       "      <th>population</th>\n",
       "      <th>gdp_per_capita</th>\n",
       "      <th>human_development_index</th>\n",
       "      <th>gender_inequality_index</th>\n",
       "      <th>corruption_perceptions_index</th>\n",
       "      <th>total</th>\n",
       "    </tr>\n",
       "    <tr>\n",
       "      <th>country_name</th>\n",
       "      <th></th>\n",
       "      <th></th>\n",
       "      <th></th>\n",
       "      <th></th>\n",
       "      <th></th>\n",
       "      <th></th>\n",
       "    </tr>\n",
       "  </thead>\n",
       "  <tbody>\n",
       "    <tr>\n",
       "      <th>Afghanistan</th>\n",
       "      <td>33370794</td>\n",
       "      <td>613.856689</td>\n",
       "      <td>0.465</td>\n",
       "      <td>0.676</td>\n",
       "      <td>12</td>\n",
       "      <td>1</td>\n",
       "    </tr>\n",
       "    <tr>\n",
       "      <th>Albania</th>\n",
       "      <td>2889104</td>\n",
       "      <td>4578.631994</td>\n",
       "      <td>0.733</td>\n",
       "      <td>0.267</td>\n",
       "      <td>33</td>\n",
       "      <td>0</td>\n",
       "    </tr>\n",
       "    <tr>\n",
       "      <th>United Arab Emirates</th>\n",
       "      <td>9214175</td>\n",
       "      <td>43751.838890</td>\n",
       "      <td>0.835</td>\n",
       "      <td>0.247</td>\n",
       "      <td>70</td>\n",
       "      <td>0</td>\n",
       "    </tr>\n",
       "    <tr>\n",
       "      <th>Argentina</th>\n",
       "      <td>42669500</td>\n",
       "      <td>12334.798250</td>\n",
       "      <td>0.836</td>\n",
       "      <td>0.364</td>\n",
       "      <td>34</td>\n",
       "      <td>4</td>\n",
       "    </tr>\n",
       "    <tr>\n",
       "      <th>Armenia</th>\n",
       "      <td>2912403</td>\n",
       "      <td>3986.231624</td>\n",
       "      <td>0.733</td>\n",
       "      <td>0.299</td>\n",
       "      <td>37</td>\n",
       "      <td>2</td>\n",
       "    </tr>\n",
       "  </tbody>\n",
       "</table>\n",
       "</div>"
      ],
      "text/plain": [
       "                      population  gdp_per_capita  human_development_index  \\\n",
       "country_name                                                                \n",
       "Afghanistan             33370794      613.856689                    0.465   \n",
       "Albania                  2889104     4578.631994                    0.733   \n",
       "United Arab Emirates     9214175    43751.838890                    0.835   \n",
       "Argentina               42669500    12334.798250                    0.836   \n",
       "Armenia                  2912403     3986.231624                    0.733   \n",
       "\n",
       "                      gender_inequality_index  corruption_perceptions_index  \\\n",
       "country_name                                                                  \n",
       "Afghanistan                             0.676                            12   \n",
       "Albania                                 0.267                            33   \n",
       "United Arab Emirates                    0.247                            70   \n",
       "Argentina                               0.364                            34   \n",
       "Armenia                                 0.299                            37   \n",
       "\n",
       "                      total  \n",
       "country_name                 \n",
       "Afghanistan               1  \n",
       "Albania                   0  \n",
       "United Arab Emirates      0  \n",
       "Argentina                 4  \n",
       "Armenia                   2  "
      ]
     },
     "execution_count": 4,
     "metadata": {},
     "output_type": "execute_result"
    }
   ],
   "source": [
    "df = df.set_index(\"country_name\",drop=True)\n",
    "df.head()"
   ]
  },
  {
   "cell_type": "code",
   "execution_count": 5,
   "metadata": {},
   "outputs": [
    {
     "data": {
      "text/html": [
       "<div>\n",
       "<style scoped>\n",
       "    .dataframe tbody tr th:only-of-type {\n",
       "        vertical-align: middle;\n",
       "    }\n",
       "\n",
       "    .dataframe tbody tr th {\n",
       "        vertical-align: top;\n",
       "    }\n",
       "\n",
       "    .dataframe thead th {\n",
       "        text-align: right;\n",
       "    }\n",
       "</style>\n",
       "<table border=\"1\" class=\"dataframe\">\n",
       "  <thead>\n",
       "    <tr style=\"text-align: right;\">\n",
       "      <th></th>\n",
       "      <th>population</th>\n",
       "      <th>gdp_per_capita</th>\n",
       "      <th>human_development_index</th>\n",
       "      <th>gender_inequality_index</th>\n",
       "      <th>corruption_perceptions_index</th>\n",
       "      <th>count_of_medals</th>\n",
       "    </tr>\n",
       "    <tr>\n",
       "      <th>country_name</th>\n",
       "      <th></th>\n",
       "      <th></th>\n",
       "      <th></th>\n",
       "      <th></th>\n",
       "      <th></th>\n",
       "      <th></th>\n",
       "    </tr>\n",
       "  </thead>\n",
       "  <tbody>\n",
       "    <tr>\n",
       "      <th>Afghanistan</th>\n",
       "      <td>33370794</td>\n",
       "      <td>613.856689</td>\n",
       "      <td>0.465</td>\n",
       "      <td>0.676</td>\n",
       "      <td>12</td>\n",
       "      <td>1</td>\n",
       "    </tr>\n",
       "    <tr>\n",
       "      <th>Albania</th>\n",
       "      <td>2889104</td>\n",
       "      <td>4578.631994</td>\n",
       "      <td>0.733</td>\n",
       "      <td>0.267</td>\n",
       "      <td>33</td>\n",
       "      <td>0</td>\n",
       "    </tr>\n",
       "    <tr>\n",
       "      <th>United Arab Emirates</th>\n",
       "      <td>9214175</td>\n",
       "      <td>43751.838890</td>\n",
       "      <td>0.835</td>\n",
       "      <td>0.247</td>\n",
       "      <td>70</td>\n",
       "      <td>0</td>\n",
       "    </tr>\n",
       "    <tr>\n",
       "      <th>Argentina</th>\n",
       "      <td>42669500</td>\n",
       "      <td>12334.798250</td>\n",
       "      <td>0.836</td>\n",
       "      <td>0.364</td>\n",
       "      <td>34</td>\n",
       "      <td>4</td>\n",
       "    </tr>\n",
       "    <tr>\n",
       "      <th>Armenia</th>\n",
       "      <td>2912403</td>\n",
       "      <td>3986.231624</td>\n",
       "      <td>0.733</td>\n",
       "      <td>0.299</td>\n",
       "      <td>37</td>\n",
       "      <td>2</td>\n",
       "    </tr>\n",
       "  </tbody>\n",
       "</table>\n",
       "</div>"
      ],
      "text/plain": [
       "                      population  gdp_per_capita  human_development_index  \\\n",
       "country_name                                                                \n",
       "Afghanistan             33370794      613.856689                    0.465   \n",
       "Albania                  2889104     4578.631994                    0.733   \n",
       "United Arab Emirates     9214175    43751.838890                    0.835   \n",
       "Argentina               42669500    12334.798250                    0.836   \n",
       "Armenia                  2912403     3986.231624                    0.733   \n",
       "\n",
       "                      gender_inequality_index  corruption_perceptions_index  \\\n",
       "country_name                                                                  \n",
       "Afghanistan                             0.676                            12   \n",
       "Albania                                 0.267                            33   \n",
       "United Arab Emirates                    0.247                            70   \n",
       "Argentina                               0.364                            34   \n",
       "Armenia                                 0.299                            37   \n",
       "\n",
       "                      count_of_medals  \n",
       "country_name                           \n",
       "Afghanistan                         1  \n",
       "Albania                             0  \n",
       "United Arab Emirates                0  \n",
       "Argentina                           4  \n",
       "Armenia                             2  "
      ]
     },
     "execution_count": 5,
     "metadata": {},
     "output_type": "execute_result"
    }
   ],
   "source": [
    "new_df = df.rename(columns={\"total\": \"count_of_medals\"})\n",
    "new_df.head()"
   ]
  },
  {
   "cell_type": "markdown",
   "metadata": {},
   "source": [
    "### Split our preprocessed data into our features and target arrays"
   ]
  },
  {
   "cell_type": "code",
   "execution_count": 6,
   "metadata": {},
   "outputs": [],
   "source": [
    "# Create our target\n",
    "y = new_df[\"count_of_medals\"].values"
   ]
  },
  {
   "cell_type": "code",
   "execution_count": 7,
   "metadata": {},
   "outputs": [
    {
     "data": {
      "text/html": [
       "<div>\n",
       "<style scoped>\n",
       "    .dataframe tbody tr th:only-of-type {\n",
       "        vertical-align: middle;\n",
       "    }\n",
       "\n",
       "    .dataframe tbody tr th {\n",
       "        vertical-align: top;\n",
       "    }\n",
       "\n",
       "    .dataframe thead th {\n",
       "        text-align: right;\n",
       "    }\n",
       "</style>\n",
       "<table border=\"1\" class=\"dataframe\">\n",
       "  <thead>\n",
       "    <tr style=\"text-align: right;\">\n",
       "      <th></th>\n",
       "      <th>human_development_index</th>\n",
       "    </tr>\n",
       "    <tr>\n",
       "      <th>country_name</th>\n",
       "      <th></th>\n",
       "    </tr>\n",
       "  </thead>\n",
       "  <tbody>\n",
       "    <tr>\n",
       "      <th>Afghanistan</th>\n",
       "      <td>0.465</td>\n",
       "    </tr>\n",
       "    <tr>\n",
       "      <th>Albania</th>\n",
       "      <td>0.733</td>\n",
       "    </tr>\n",
       "    <tr>\n",
       "      <th>United Arab Emirates</th>\n",
       "      <td>0.835</td>\n",
       "    </tr>\n",
       "    <tr>\n",
       "      <th>Argentina</th>\n",
       "      <td>0.836</td>\n",
       "    </tr>\n",
       "    <tr>\n",
       "      <th>Armenia</th>\n",
       "      <td>0.733</td>\n",
       "    </tr>\n",
       "  </tbody>\n",
       "</table>\n",
       "</div>"
      ],
      "text/plain": [
       "                      human_development_index\n",
       "country_name                                 \n",
       "Afghanistan                             0.465\n",
       "Albania                                 0.733\n",
       "United Arab Emirates                    0.835\n",
       "Argentina                               0.836\n",
       "Armenia                                 0.733"
      ]
     },
     "execution_count": 7,
     "metadata": {},
     "output_type": "execute_result"
    }
   ],
   "source": [
    "# Optimizing and transforming features\n",
    "# Transforming CPI to values between 0-1\n",
    "new_df[\"corruption_perceptions_index\"] = new_df[\"corruption_perceptions_index\"] / 100\n",
    "# Transforming GII to invert values. Higher values will now correspond to more gender equality.\n",
    "new_df[\"gender_inequality_index\"] = 1 - new_df[\"gender_inequality_index\"]\n",
    "# Replacing GDP per capita with total GDP\n",
    "new_df[\"gdp_total\"] = new_df[\"population\"] * new_df[\"gdp_per_capita\"]\n",
    "# X = new_df.drop([\"count_of_medals\",\"population\",\"gdp_per_capita\", \"human_development_index\", \"gender_inequality_index\", \"corruption_perceptions_index\"], axis=1)"
   ]
  },
  {
   "cell_type": "code",
   "execution_count": 8,
   "metadata": {},
   "outputs": [],
   "source": [
    "# Create our features\n",
    "X = new_df.drop([\"count_of_medals\", \"gdp_per_capita\"], axis=1).values\n",
    "X"
   ]
  },
  {
   "cell_type": "code",
   "execution_count": 10,
   "metadata": {},
   "outputs": [],
   "source": [
    "# Create a StandardScaler instances\n",
    "# scaler = MinMaxScaler()\n",
    "\n",
    "# # Fit the StandardScaler\n",
    "# X_scaler = scaler.fit(X_train)\n",
    "\n",
    "# # Scale the data\n",
    "# X_train_scaled = X_scaler.transform(X_train)\n",
    "# X_test_scaled = X_scaler.transform(X_test)\n",
    "\n"
   ]
  },
  {
   "cell_type": "code",
   "execution_count": 11,
   "metadata": {},
   "outputs": [],
   "source": [
    "# Splitting data into a training and testing dataset\n",
    "X_train, X_test, y_train, y_test = train_test_split(X, y, test_size=0.25, random_state=15)"
   ]
  },
  {
   "cell_type": "code",
   "execution_count": 12,
   "metadata": {},
   "outputs": [
    {
     "data": {
      "text/plain": [
       "1"
      ]
     },
     "execution_count": 12,
     "metadata": {},
     "output_type": "execute_result"
    }
   ],
   "source": [
    "# Define the model - deep neural net, i.e., the number of input features and hidden nodes for each layer.\n",
    "\n",
    "number_input_features = len(X_train[0])\n",
    "hidden_nodes_layer1 = 2 * number_input_features\n",
    "hidden_nodes_layer2 = 2 * number_input_features\n",
    "\n",
    "nn = tf.keras.models.Sequential()\n",
    "number_input_features "
   ]
  },
  {
   "cell_type": "code",
   "execution_count": 22,
   "metadata": {},
   "outputs": [
    {
     "name": "stdout",
     "output_type": "stream",
     "text": [
      "Model: \"sequential\"\n",
      "_________________________________________________________________\n",
      "Layer (type)                 Output Shape              Param #   \n",
      "=================================================================\n",
      "dense (Dense)                (None, 2)                 4         \n",
      "_________________________________________________________________\n",
      "dense_1 (Dense)              (None, 2)                 6         \n",
      "_________________________________________________________________\n",
      "dense_2 (Dense)              (None, 1)                 3         \n",
      "_________________________________________________________________\n",
      "dense_3 (Dense)              (None, 2)                 4         \n",
      "_________________________________________________________________\n",
      "dense_4 (Dense)              (None, 1)                 3         \n",
      "=================================================================\n",
      "WARNING:tensorflow:Discrepancy between trainable weights and collected trainable weights, did you set `model.trainable` without calling `model.compile` after ?\n",
      "Total params: 13\n",
      "Trainable params: 13\n",
      "Non-trainable params: 0\n",
      "_________________________________________________________________\n"
     ]
    }
   ],
   "source": [
    "# First hidden layer\n",
    "nn.add(\n",
    "    tf.keras.layers.Dense(units=hidden_nodes_layer1, input_dim=number_input_features, activation=\"relu\")\n",
    ")\n",
    "\n",
    "# # Second hidden layer\n",
    "#nn.add(tf.keras.layers.Dense(units=hidden_nodes_layer2, activation=\"relu\"))\n",
    "\n",
    "# Output layer\n",
    "nn.add(tf.keras.layers.Dense(units=1, activation=\"linear\"))\n",
    "# After bucketing the medal count, you'd have to change this to have mulitiple outputs. \n",
    "# In other words, you'd need one node for each bucket. And then you'd change the activation to \"softmax.\"\n",
    "# You'd also have to one-hot encode your y values. \n",
    "\n",
    "# Check the structure of the model\n",
    "nn.summary()"
   ]
  },
  {
   "cell_type": "code",
   "execution_count": 23,
   "metadata": {},
   "outputs": [],
   "source": [
    "# Import checkpoint dependencies\n",
    "import os\n",
    "from tensorflow.keras.callbacks import ModelCheckpoint\n",
    "\n",
    "# Define the checkpoint path and filenames\n",
    "os.makedirs(\"checkpoints/\",exist_ok=True)\n",
    "checkpoint_path = \"checkpoints/weights.{epoch:02d}.hdf5\""
   ]
  },
  {
   "cell_type": "code",
   "execution_count": 24,
   "metadata": {},
   "outputs": [],
   "source": [
    "# Compile the model\n",
    "nn.compile(loss=\"mean_squared_error\", optimizer=\"adam\")"
   ]
  },
  {
   "cell_type": "code",
   "execution_count": 25,
   "metadata": {},
   "outputs": [],
   "source": [
    "# Create a callback that saves the model's weights every 5 epochs\n",
    "cp_callback = ModelCheckpoint(\n",
    "    filepath=checkpoint_path,\n",
    "    verbose=1,\n",
    "    save_weights_only=True,\n",
    "    save_freq=1000)"
   ]
  },
  {
   "cell_type": "code",
   "execution_count": 26,
   "metadata": {},
   "outputs": [
    {
     "name": "stdout",
     "output_type": "stream",
     "text": [
      "Train on 119 samples\n",
      "Epoch 1/25\n",
      "119/119 [==============================] - 2s 14ms/sample - loss: 419.7206\n",
      "Epoch 2/25\n",
      "119/119 [==============================] - 0s 334us/sample - loss: 419.6590\n",
      "Epoch 3/25\n",
      "119/119 [==============================] - 0s 256us/sample - loss: 419.6039\n",
      "Epoch 4/25\n",
      "119/119 [==============================] - 0s 566us/sample - loss: 419.5429\n",
      "Epoch 5/25\n",
      "119/119 [==============================] - 0s 288us/sample - loss: 419.4847\n",
      "Epoch 6/25\n",
      "119/119 [==============================] - 0s 431us/sample - loss: 419.4285\n",
      "Epoch 7/25\n",
      "119/119 [==============================] - 0s 411us/sample - loss: 419.3600\n",
      "Epoch 8/25\n",
      "119/119 [==============================] - 0s 238us/sample - loss: 419.3132\n",
      "Epoch 9/25\n",
      " 32/119 [=======>......................] - ETA: 0s - loss: 74.6454\n",
      "Epoch 00009: saving model to checkpoints/weights.09.hdf5\n",
      "119/119 [==============================] - 0s 675us/sample - loss: 419.2428\n",
      "Epoch 10/25\n",
      "119/119 [==============================] - 0s 247us/sample - loss: 419.1897\n",
      "Epoch 11/25\n",
      "119/119 [==============================] - 0s 322us/sample - loss: 419.1399\n",
      "Epoch 12/25\n",
      "119/119 [==============================] - 0s 275us/sample - loss: 419.0735\n",
      "Epoch 13/25\n",
      "119/119 [==============================] - 0s 292us/sample - loss: 419.0078\n",
      "Epoch 14/25\n",
      "119/119 [==============================] - 0s 349us/sample - loss: 418.9581\n",
      "Epoch 15/25\n",
      "119/119 [==============================] - 0s 233us/sample - loss: 418.9000\n",
      "Epoch 16/25\n",
      "119/119 [==============================] - 0s 347us/sample - loss: 418.8421\n",
      "Epoch 17/25\n",
      " 32/119 [=======>......................] - ETA: 0s - loss: 65.5181\n",
      "Epoch 00017: saving model to checkpoints/weights.17.hdf5\n",
      "119/119 [==============================] - 0s 568us/sample - loss: 418.7790\n",
      "Epoch 18/25\n",
      "119/119 [==============================] - 0s 451us/sample - loss: 418.7207\n",
      "Epoch 19/25\n",
      "119/119 [==============================] - 0s 311us/sample - loss: 418.6704\n",
      "Epoch 20/25\n",
      "119/119 [==============================] - 0s 345us/sample - loss: 418.6082\n",
      "Epoch 21/25\n",
      "119/119 [==============================] - 0s 244us/sample - loss: 418.5459\n",
      "Epoch 22/25\n",
      "119/119 [==============================] - 0s 677us/sample - loss: 418.4947\n",
      "Epoch 23/25\n",
      "119/119 [==============================] - 0s 559us/sample - loss: 418.4307\n",
      "Epoch 24/25\n",
      "119/119 [==============================] - 0s 357us/sample - loss: 418.3732\n",
      "Epoch 25/25\n",
      "119/119 [==============================] - 0s 265us/sample - loss: 418.3121\n"
     ]
    }
   ],
   "source": [
    "# Train the model\n",
    "fit_model = nn.fit(X_train,y_train,epochs=25,callbacks=[cp_callback])"
   ]
  },
  {
   "cell_type": "code",
   "execution_count": 27,
   "metadata": {},
   "outputs": [],
   "source": [
    "# # Evaluate the model using the test data\n",
    "# model_loss, model_accuracy = nn.evaluate(X_test_scaled,y_test,verbose=2)\n",
    "# print(f\"Loss: {model_loss}, Accuracy: {model_accuracy}\")"
   ]
  },
  {
   "cell_type": "code",
   "execution_count": 28,
   "metadata": {},
   "outputs": [],
   "source": [
    "y_train_pred = nn.predict(X_train)\n",
    "y_test_pred = nn.predict(X_test)"
   ]
  },
  {
   "cell_type": "code",
   "execution_count": 29,
   "metadata": {},
   "outputs": [
    {
     "data": {
      "text/plain": [
       "-0.17097429222045113"
      ]
     },
     "execution_count": 29,
     "metadata": {},
     "output_type": "execute_result"
    }
   ],
   "source": [
    "from sklearn.metrics import r2_score\n",
    "r2_score(y_train, y_train_pred)"
   ]
  },
  {
   "cell_type": "code",
   "execution_count": 30,
   "metadata": {},
   "outputs": [
    {
     "data": {
      "text/plain": [
       "-0.18587038462969518"
      ]
     },
     "execution_count": 30,
     "metadata": {},
     "output_type": "execute_result"
    }
   ],
   "source": [
    "r2_score(y_test, y_test_pred)"
   ]
  },
  {
   "cell_type": "code",
   "execution_count": 31,
   "metadata": {},
   "outputs": [
    {
     "data": {
      "text/plain": [
       "array([ 0, 13,  1,  0,  1,  0,  0,  4,  0, 15,  3, 12,  0,  0,  0,  5,  1,\n",
       "        0,  6, 17,  6,  2,  0,  0,  0,  0, 18,  0,  0, 12,  0,  0,  0,  7,\n",
       "        0,  0, 50, 38,  0, 97])"
      ]
     },
     "execution_count": 31,
     "metadata": {},
     "output_type": "execute_result"
    }
   ],
   "source": [
    "y_test"
   ]
  },
  {
   "cell_type": "code",
   "execution_count": 33,
   "metadata": {},
   "outputs": [
    {
     "data": {
      "text/plain": [
       "array([[0.09259552],\n",
       "       [0.09259552],\n",
       "       [0.09259552],\n",
       "       [0.09259552],\n",
       "       [0.09259552],\n",
       "       [0.09259552],\n",
       "       [0.09259552],\n",
       "       [0.09259552],\n",
       "       [0.09259552],\n",
       "       [0.09259552],\n",
       "       [0.09259552],\n",
       "       [0.09259552],\n",
       "       [0.09259552],\n",
       "       [0.09259552],\n",
       "       [0.09259552],\n",
       "       [0.09259552],\n",
       "       [0.09259552],\n",
       "       [0.09259552],\n",
       "       [0.09259552],\n",
       "       [0.09259552],\n",
       "       [0.09259552],\n",
       "       [0.09259552],\n",
       "       [0.09259552],\n",
       "       [0.09259552],\n",
       "       [0.09259552],\n",
       "       [0.09259552],\n",
       "       [0.09259552],\n",
       "       [0.09259552],\n",
       "       [0.09259552],\n",
       "       [0.09259552],\n",
       "       [0.09259552],\n",
       "       [0.09259552],\n",
       "       [0.09259552],\n",
       "       [0.09259552],\n",
       "       [0.09259552],\n",
       "       [0.09259552],\n",
       "       [0.09259552],\n",
       "       [0.09259552],\n",
       "       [0.09259552],\n",
       "       [0.09259552]], dtype=float32)"
      ]
     },
     "execution_count": 33,
     "metadata": {},
     "output_type": "execute_result"
    }
   ],
   "source": [
    "y_test_pred"
   ]
  },
  {
   "cell_type": "markdown",
   "metadata": {},
   "source": [
    "### Saving the model"
   ]
  },
  {
   "cell_type": "code",
   "execution_count": null,
   "metadata": {},
   "outputs": [],
   "source": [
    "# Export our model to HDF5 file\n",
    "nn.save(\"DL_trained_model.h5\")"
   ]
  },
  {
   "cell_type": "code",
   "execution_count": null,
   "metadata": {},
   "outputs": [],
   "source": []
  }
 ],
 "metadata": {
  "kernelspec": {
   "display_name": "Python 3",
   "language": "python",
   "name": "python3"
  },
  "language_info": {
   "codemirror_mode": {
    "name": "ipython",
    "version": 3
   },
   "file_extension": ".py",
   "mimetype": "text/x-python",
   "name": "python",
   "nbconvert_exporter": "python",
   "pygments_lexer": "ipython3",
   "version": "3.7.7"
  }
 },
 "nbformat": 4,
 "nbformat_minor": 4
}
